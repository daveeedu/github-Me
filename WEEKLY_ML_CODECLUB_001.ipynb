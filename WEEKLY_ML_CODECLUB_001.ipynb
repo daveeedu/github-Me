{
  "nbformat": 4,
  "nbformat_minor": 0,
  "metadata": {
    "colab": {
      "name": "WEEKLY ML CODECLUB: 001.ipynb",
      "provenance": [],
      "authorship_tag": "ABX9TyOC9HJ0BWcvvmSZ77dRx72H",
      "include_colab_link": true
    },
    "kernelspec": {
      "name": "python3",
      "display_name": "Python 3"
    }
  },
  "cells": [
    {
      "cell_type": "markdown",
      "metadata": {
        "id": "view-in-github",
        "colab_type": "text"
      },
      "source": [
        "<a href=\"https://colab.research.google.com/github/daveeedu/github-Me/blob/main/WEEKLY_ML_CODECLUB_001.ipynb\" target=\"_parent\"><img src=\"https://colab.research.google.com/assets/colab-badge.svg\" alt=\"Open In Colab\"/></a>"
      ]
    },
    {
      "cell_type": "code",
      "metadata": {
        "id": "DPUdYPPl1TRM"
      },
      "source": [
        "import pandas as pd\r\n",
        "import numpy as np"
      ],
      "execution_count": 4,
      "outputs": []
    },
    {
      "cell_type": "code",
      "metadata": {
        "colab": {
          "base_uri": "https://localhost:8080/"
        },
        "id": "NWUmG7oD1WPG",
        "outputId": "735fe22e-51fc-4c95-cb3d-728c1560b6ec"
      },
      "source": [
        "url1 = 'https://github.com/open-numbers/ddf--gapminder--systema_globalis/blob/master/ddf--entities--geo--country.csv?raw=true'\r\n",
        "geo_country_code_data = pd.read_csv(url1, error_bad_lines=False)\r\n",
        "print(geo_country_code_data)"
      ],
      "execution_count": 5,
      "outputs": [
        {
          "output_type": "stream",
          "text": [
            "       country g77_and_oecd_countries  ... world_4region             world_6region\n",
            "0         abkh                 others  ...        europe       europe_central_asia\n",
            "1          abw                 others  ...      americas                   america\n",
            "2          afg                    g77  ...          asia                south_asia\n",
            "3          ago                    g77  ...        africa        sub_saharan_africa\n",
            "4          aia                 others  ...      americas                   america\n",
            "..         ...                    ...  ...           ...                       ...\n",
            "268  yem_south                 others  ...          asia  middle_east_north_africa\n",
            "269        yug                 others  ...        europe       europe_central_asia\n",
            "270        zaf                    g77  ...        africa        sub_saharan_africa\n",
            "271        zmb                    g77  ...        africa        sub_saharan_africa\n",
            "272        zwe                    g77  ...        africa        sub_saharan_africa\n",
            "\n",
            "[273 rows x 21 columns]\n"
          ],
          "name": "stdout"
        }
      ]
    },
    {
      "cell_type": "code",
      "metadata": {
        "colab": {
          "base_uri": "https://localhost:8080/"
        },
        "id": "_Zflu_Mt1azS",
        "outputId": "5d3c97a0-d6bb-4b9c-c1d0-36374581fedd"
      },
      "source": [
        "url2 = 'https://raw.githubusercontent.com/zalihat/cell_phone_dataset/master/population1.csv?raw=true'\r\n",
        "population_data = pd.read_csv(url2, error_bad_lines=False)\r\n",
        "print(population_data)"
      ],
      "execution_count": 6,
      "outputs": [
        {
          "output_type": "stream",
          "text": [
            "           Country  year  population\n",
            "0      Afghanistan  1800     3280000\n",
            "1      Afghanistan  1801     3280000\n",
            "2      Afghanistan  1802     3280000\n",
            "3      Afghanistan  1803     3280000\n",
            "4      Afghanistan  1804     3280000\n",
            "...            ...   ...         ...\n",
            "58690     Zimbabwe  2096    30900000\n",
            "58691     Zimbabwe  2097    31000000\n",
            "58692     Zimbabwe  2098    31000000\n",
            "58693     Zimbabwe  2099    31000000\n",
            "58694     Zimbabwe  2100    31000000\n",
            "\n",
            "[58695 rows x 3 columns]\n"
          ],
          "name": "stdout"
        }
      ]
    },
    {
      "cell_type": "code",
      "metadata": {
        "colab": {
          "base_uri": "https://localhost:8080/"
        },
        "id": "yfEoL6zO1015",
        "outputId": "c0f45bbc-4030-4390-8319-64a344948b09"
      },
      "source": [
        "url3 = 'https://raw.githubusercontent.com/zalihat/cell_phone_dataset/master/cell_phones.csv?raw=true'\r\n",
        "cell_phones_data = pd.read_csv(url3, error_bad_lines=False)\r\n",
        "print(cell_phones_data)"
      ],
      "execution_count": 7,
      "outputs": [
        {
          "output_type": "stream",
          "text": [
            "           Country  year  cell_phones_total\n",
            "0      Afghanistan  1960                0.0\n",
            "1      Afghanistan  1961                0.0\n",
            "2      Afghanistan  1962                0.0\n",
            "3      Afghanistan  1963                0.0\n",
            "4      Afghanistan  1964                0.0\n",
            "...            ...   ...                ...\n",
            "11635     Zimbabwe  2015         12800000.0\n",
            "11636     Zimbabwe  2016         12900000.0\n",
            "11637     Zimbabwe  2017         14100000.0\n",
            "11638     Zimbabwe  2018         12900000.0\n",
            "11639     Zimbabwe  2019         13200000.0\n",
            "\n",
            "[11640 rows x 3 columns]\n"
          ],
          "name": "stdout"
        }
      ]
    },
    {
      "cell_type": "code",
      "metadata": {
        "colab": {
          "base_uri": "https://localhost:8080/"
        },
        "id": "AZpB8gzo19xr",
        "outputId": "966951b6-726c-4944-e330-d86cf250e229"
      },
      "source": [
        "population_cell_phones_data = pd.merge(population_data, cell_phones_data, how=\"inner\")\r\n",
        "print(population_cell_phones_data)"
      ],
      "execution_count": 8,
      "outputs": [
        {
          "output_type": "stream",
          "text": [
            "           Country  year  population  cell_phones_total\n",
            "0      Afghanistan  1960     9000000                0.0\n",
            "1      Afghanistan  1961     9170000                0.0\n",
            "2      Afghanistan  1962     9350000                0.0\n",
            "3      Afghanistan  1963     9540000                0.0\n",
            "4      Afghanistan  1964     9740000                0.0\n",
            "...            ...   ...         ...                ...\n",
            "11635     Zimbabwe  2015    13800000         12800000.0\n",
            "11636     Zimbabwe  2016    14000000         12900000.0\n",
            "11637     Zimbabwe  2017    14200000         14100000.0\n",
            "11638     Zimbabwe  2018    14400000         12900000.0\n",
            "11639     Zimbabwe  2019    14600000         13200000.0\n",
            "\n",
            "[11640 rows x 4 columns]\n"
          ],
          "name": "stdout"
        }
      ]
    },
    {
      "cell_type": "code",
      "metadata": {
        "colab": {
          "base_uri": "https://localhost:8080/",
          "height": 148
        },
        "id": "77aOdPUt198-",
        "outputId": "a5768943-5e25-455a-8d52-1b178d7af065"
      },
      "source": [
        "new_geo_country_code_data = geo_country_code_data.rename(columns=\r\n",
        "                                                       {'country': 'geo',\r\n",
        "                                                         'name': 'Country' })\r\n",
        "new_geo_country_code_data[:2]"
      ],
      "execution_count": 9,
      "outputs": [
        {
          "output_type": "execute_result",
          "data": {
            "text/html": [
              "<div>\n",
              "<style scoped>\n",
              "    .dataframe tbody tr th:only-of-type {\n",
              "        vertical-align: middle;\n",
              "    }\n",
              "\n",
              "    .dataframe tbody tr th {\n",
              "        vertical-align: top;\n",
              "    }\n",
              "\n",
              "    .dataframe thead th {\n",
              "        text-align: right;\n",
              "    }\n",
              "</style>\n",
              "<table border=\"1\" class=\"dataframe\">\n",
              "  <thead>\n",
              "    <tr style=\"text-align: right;\">\n",
              "      <th></th>\n",
              "      <th>geo</th>\n",
              "      <th>g77_and_oecd_countries</th>\n",
              "      <th>income_3groups</th>\n",
              "      <th>income_groups</th>\n",
              "      <th>is--country</th>\n",
              "      <th>iso3166_1_alpha2</th>\n",
              "      <th>iso3166_1_alpha3</th>\n",
              "      <th>iso3166_1_numeric</th>\n",
              "      <th>iso3166_2</th>\n",
              "      <th>landlocked</th>\n",
              "      <th>latitude</th>\n",
              "      <th>longitude</th>\n",
              "      <th>main_religion_2008</th>\n",
              "      <th>Country</th>\n",
              "      <th>un_sdg_ldc</th>\n",
              "      <th>un_sdg_region</th>\n",
              "      <th>un_state</th>\n",
              "      <th>unicef_region</th>\n",
              "      <th>unicode_region_subtag</th>\n",
              "      <th>world_4region</th>\n",
              "      <th>world_6region</th>\n",
              "    </tr>\n",
              "  </thead>\n",
              "  <tbody>\n",
              "    <tr>\n",
              "      <th>0</th>\n",
              "      <td>abkh</td>\n",
              "      <td>others</td>\n",
              "      <td>NaN</td>\n",
              "      <td>NaN</td>\n",
              "      <td>True</td>\n",
              "      <td>NaN</td>\n",
              "      <td>NaN</td>\n",
              "      <td>NaN</td>\n",
              "      <td>NaN</td>\n",
              "      <td>NaN</td>\n",
              "      <td>NaN</td>\n",
              "      <td>NaN</td>\n",
              "      <td>NaN</td>\n",
              "      <td>Abkhazia</td>\n",
              "      <td>NaN</td>\n",
              "      <td>NaN</td>\n",
              "      <td>False</td>\n",
              "      <td>NaN</td>\n",
              "      <td>NaN</td>\n",
              "      <td>europe</td>\n",
              "      <td>europe_central_asia</td>\n",
              "    </tr>\n",
              "    <tr>\n",
              "      <th>1</th>\n",
              "      <td>abw</td>\n",
              "      <td>others</td>\n",
              "      <td>high_income</td>\n",
              "      <td>high_income</td>\n",
              "      <td>True</td>\n",
              "      <td>AW</td>\n",
              "      <td>ABW</td>\n",
              "      <td>533.0</td>\n",
              "      <td>NaN</td>\n",
              "      <td>coastline</td>\n",
              "      <td>12.5</td>\n",
              "      <td>-69.96667</td>\n",
              "      <td>christian</td>\n",
              "      <td>Aruba</td>\n",
              "      <td>un_not_least_developed</td>\n",
              "      <td>un_latin_america_and_the_caribbean</td>\n",
              "      <td>False</td>\n",
              "      <td>NaN</td>\n",
              "      <td>AW</td>\n",
              "      <td>americas</td>\n",
              "      <td>america</td>\n",
              "    </tr>\n",
              "  </tbody>\n",
              "</table>\n",
              "</div>"
            ],
            "text/plain": [
              "    geo g77_and_oecd_countries  ... world_4region        world_6region\n",
              "0  abkh                 others  ...        europe  europe_central_asia\n",
              "1   abw                 others  ...      americas              america\n",
              "\n",
              "[2 rows x 21 columns]"
            ]
          },
          "metadata": {
            "tags": []
          },
          "execution_count": 9
        }
      ]
    },
    {
      "cell_type": "code",
      "metadata": {
        "colab": {
          "base_uri": "https://localhost:8080/"
        },
        "id": "R_YTDcnX1-Gn",
        "outputId": "0303e604-201f-4aca-f189-7a2e4e6ac89d"
      },
      "source": [
        "geo_country_df = new_geo_country_code_data[['geo', 'Country']] \r\n",
        "print(geo_country_df)"
      ],
      "execution_count": 10,
      "outputs": [
        {
          "output_type": "stream",
          "text": [
            "           geo               Country\n",
            "0         abkh              Abkhazia\n",
            "1          abw                 Aruba\n",
            "2          afg           Afghanistan\n",
            "3          ago                Angola\n",
            "4          aia              Anguilla\n",
            "..         ...                   ...\n",
            "268  yem_south  South Yemen (former)\n",
            "269        yug            Yugoslavia\n",
            "270        zaf          South Africa\n",
            "271        zmb                Zambia\n",
            "272        zwe              Zimbabwe\n",
            "\n",
            "[273 rows x 2 columns]\n"
          ],
          "name": "stdout"
        }
      ]
    },
    {
      "cell_type": "code",
      "metadata": {
        "colab": {
          "base_uri": "https://localhost:8080/"
        },
        "id": "kfOIhqn51-Pu",
        "outputId": "93a6d1db-1e90-4478-d6ac-e23b45a9d734"
      },
      "source": [
        "merged_df = pd.merge(population_cell_phones_data, geo_country_df, how=\"inner\")\r\n",
        "print(merged_df)"
      ],
      "execution_count": 11,
      "outputs": [
        {
          "output_type": "stream",
          "text": [
            "           Country  year  population  cell_phones_total  geo\n",
            "0      Afghanistan  1960     9000000                0.0  afg\n",
            "1      Afghanistan  1961     9170000                0.0  afg\n",
            "2      Afghanistan  1962     9350000                0.0  afg\n",
            "3      Afghanistan  1963     9540000                0.0  afg\n",
            "4      Afghanistan  1964     9740000                0.0  afg\n",
            "...            ...   ...         ...                ...  ...\n",
            "11635     Zimbabwe  2015    13800000         12800000.0  zwe\n",
            "11636     Zimbabwe  2016    14000000         12900000.0  zwe\n",
            "11637     Zimbabwe  2017    14200000         14100000.0  zwe\n",
            "11638     Zimbabwe  2018    14400000         12900000.0  zwe\n",
            "11639     Zimbabwe  2019    14600000         13200000.0  zwe\n",
            "\n",
            "[11640 rows x 5 columns]\n"
          ],
          "name": "stdout"
        }
      ]
    },
    {
      "cell_type": "code",
      "metadata": {
        "colab": {
          "base_uri": "https://localhost:8080/"
        },
        "id": "OJAnhvzH2L2g",
        "outputId": "72daa951-a3ef-4c13-d861-3759d2efd3b8"
      },
      "source": [
        "merged_df['cell_per_pers']= merged_df['cell_phones_total'] / merged_df['population']\r\n",
        "print(merged_df)"
      ],
      "execution_count": 12,
      "outputs": [
        {
          "output_type": "stream",
          "text": [
            "           Country  year  population  cell_phones_total  geo  cell_per_pers\n",
            "0      Afghanistan  1960     9000000                0.0  afg       0.000000\n",
            "1      Afghanistan  1961     9170000                0.0  afg       0.000000\n",
            "2      Afghanistan  1962     9350000                0.0  afg       0.000000\n",
            "3      Afghanistan  1963     9540000                0.0  afg       0.000000\n",
            "4      Afghanistan  1964     9740000                0.0  afg       0.000000\n",
            "...            ...   ...         ...                ...  ...            ...\n",
            "11635     Zimbabwe  2015    13800000         12800000.0  zwe       0.927536\n",
            "11636     Zimbabwe  2016    14000000         12900000.0  zwe       0.921429\n",
            "11637     Zimbabwe  2017    14200000         14100000.0  zwe       0.992958\n",
            "11638     Zimbabwe  2018    14400000         12900000.0  zwe       0.895833\n",
            "11639     Zimbabwe  2019    14600000         13200000.0  zwe       0.904110\n",
            "\n",
            "[11640 rows x 6 columns]\n"
          ],
          "name": "stdout"
        }
      ]
    },
    {
      "cell_type": "code",
      "metadata": {
        "colab": {
          "base_uri": "https://localhost:8080/",
          "height": 419
        },
        "id": "WhsZbW1q2MkO",
        "outputId": "02af5f11-cf50-4df5-f324-750aa7c541a8"
      },
      "source": [
        "merged_df[:11160]"
      ],
      "execution_count": 13,
      "outputs": [
        {
          "output_type": "execute_result",
          "data": {
            "text/html": [
              "<div>\n",
              "<style scoped>\n",
              "    .dataframe tbody tr th:only-of-type {\n",
              "        vertical-align: middle;\n",
              "    }\n",
              "\n",
              "    .dataframe tbody tr th {\n",
              "        vertical-align: top;\n",
              "    }\n",
              "\n",
              "    .dataframe thead th {\n",
              "        text-align: right;\n",
              "    }\n",
              "</style>\n",
              "<table border=\"1\" class=\"dataframe\">\n",
              "  <thead>\n",
              "    <tr style=\"text-align: right;\">\n",
              "      <th></th>\n",
              "      <th>Country</th>\n",
              "      <th>year</th>\n",
              "      <th>population</th>\n",
              "      <th>cell_phones_total</th>\n",
              "      <th>geo</th>\n",
              "      <th>cell_per_pers</th>\n",
              "    </tr>\n",
              "  </thead>\n",
              "  <tbody>\n",
              "    <tr>\n",
              "      <th>0</th>\n",
              "      <td>Afghanistan</td>\n",
              "      <td>1960</td>\n",
              "      <td>9000000</td>\n",
              "      <td>0.0</td>\n",
              "      <td>afg</td>\n",
              "      <td>0.000000</td>\n",
              "    </tr>\n",
              "    <tr>\n",
              "      <th>1</th>\n",
              "      <td>Afghanistan</td>\n",
              "      <td>1961</td>\n",
              "      <td>9170000</td>\n",
              "      <td>0.0</td>\n",
              "      <td>afg</td>\n",
              "      <td>0.000000</td>\n",
              "    </tr>\n",
              "    <tr>\n",
              "      <th>2</th>\n",
              "      <td>Afghanistan</td>\n",
              "      <td>1962</td>\n",
              "      <td>9350000</td>\n",
              "      <td>0.0</td>\n",
              "      <td>afg</td>\n",
              "      <td>0.000000</td>\n",
              "    </tr>\n",
              "    <tr>\n",
              "      <th>3</th>\n",
              "      <td>Afghanistan</td>\n",
              "      <td>1963</td>\n",
              "      <td>9540000</td>\n",
              "      <td>0.0</td>\n",
              "      <td>afg</td>\n",
              "      <td>0.000000</td>\n",
              "    </tr>\n",
              "    <tr>\n",
              "      <th>4</th>\n",
              "      <td>Afghanistan</td>\n",
              "      <td>1964</td>\n",
              "      <td>9740000</td>\n",
              "      <td>0.0</td>\n",
              "      <td>afg</td>\n",
              "      <td>0.000000</td>\n",
              "    </tr>\n",
              "    <tr>\n",
              "      <th>...</th>\n",
              "      <td>...</td>\n",
              "      <td>...</td>\n",
              "      <td>...</td>\n",
              "      <td>...</td>\n",
              "      <td>...</td>\n",
              "      <td>...</td>\n",
              "    </tr>\n",
              "    <tr>\n",
              "      <th>11155</th>\n",
              "      <td>United States</td>\n",
              "      <td>2015</td>\n",
              "      <td>321000000</td>\n",
              "      <td>382000000.0</td>\n",
              "      <td>usa</td>\n",
              "      <td>1.190031</td>\n",
              "    </tr>\n",
              "    <tr>\n",
              "      <th>11156</th>\n",
              "      <td>United States</td>\n",
              "      <td>2016</td>\n",
              "      <td>323000000</td>\n",
              "      <td>396000000.0</td>\n",
              "      <td>usa</td>\n",
              "      <td>1.226006</td>\n",
              "    </tr>\n",
              "    <tr>\n",
              "      <th>11157</th>\n",
              "      <td>United States</td>\n",
              "      <td>2017</td>\n",
              "      <td>325000000</td>\n",
              "      <td>400000000.0</td>\n",
              "      <td>usa</td>\n",
              "      <td>1.230769</td>\n",
              "    </tr>\n",
              "    <tr>\n",
              "      <th>11158</th>\n",
              "      <td>United States</td>\n",
              "      <td>2018</td>\n",
              "      <td>327000000</td>\n",
              "      <td>422000000.0</td>\n",
              "      <td>usa</td>\n",
              "      <td>1.290520</td>\n",
              "    </tr>\n",
              "    <tr>\n",
              "      <th>11159</th>\n",
              "      <td>United States</td>\n",
              "      <td>2019</td>\n",
              "      <td>329000000</td>\n",
              "      <td>0.0</td>\n",
              "      <td>usa</td>\n",
              "      <td>0.000000</td>\n",
              "    </tr>\n",
              "  </tbody>\n",
              "</table>\n",
              "<p>11160 rows × 6 columns</p>\n",
              "</div>"
            ],
            "text/plain": [
              "             Country  year  population  cell_phones_total  geo  cell_per_pers\n",
              "0        Afghanistan  1960     9000000                0.0  afg       0.000000\n",
              "1        Afghanistan  1961     9170000                0.0  afg       0.000000\n",
              "2        Afghanistan  1962     9350000                0.0  afg       0.000000\n",
              "3        Afghanistan  1963     9540000                0.0  afg       0.000000\n",
              "4        Afghanistan  1964     9740000                0.0  afg       0.000000\n",
              "...              ...   ...         ...                ...  ...            ...\n",
              "11155  United States  2015   321000000        382000000.0  usa       1.190031\n",
              "11156  United States  2016   323000000        396000000.0  usa       1.226006\n",
              "11157  United States  2017   325000000        400000000.0  usa       1.230769\n",
              "11158  United States  2018   327000000        422000000.0  usa       1.290520\n",
              "11159  United States  2019   329000000                0.0  usa       0.000000\n",
              "\n",
              "[11160 rows x 6 columns]"
            ]
          },
          "metadata": {
            "tags": []
          },
          "execution_count": 13
        }
      ]
    },
    {
      "cell_type": "code",
      "metadata": {
        "colab": {
          "base_uri": "https://localhost:8080/"
        },
        "id": "E7JvDhgZ2M6f",
        "outputId": "2589acfa-f54e-4454-c8ac-77ae07ccfcbd"
      },
      "source": [
        "merged_df['geo'].str.upper()"
      ],
      "execution_count": 14,
      "outputs": [
        {
          "output_type": "execute_result",
          "data": {
            "text/plain": [
              "0        AFG\n",
              "1        AFG\n",
              "2        AFG\n",
              "3        AFG\n",
              "4        AFG\n",
              "        ... \n",
              "11635    ZWE\n",
              "11636    ZWE\n",
              "11637    ZWE\n",
              "11638    ZWE\n",
              "11639    ZWE\n",
              "Name: geo, Length: 11640, dtype: object"
            ]
          },
          "metadata": {
            "tags": []
          },
          "execution_count": 14
        }
      ]
    },
    {
      "cell_type": "code",
      "metadata": {
        "colab": {
          "base_uri": "https://localhost:8080/"
        },
        "id": "VtpAS6Li2XDN",
        "outputId": "740072d6-c6fe-4709-d61a-6b02d72d2bed"
      },
      "source": [
        "merged_df2 = merged_df[['year','Country','cell_phones_total']]\r\n",
        "print(merged_df2)"
      ],
      "execution_count": 15,
      "outputs": [
        {
          "output_type": "stream",
          "text": [
            "       year      Country  cell_phones_total\n",
            "0      1960  Afghanistan                0.0\n",
            "1      1961  Afghanistan                0.0\n",
            "2      1962  Afghanistan                0.0\n",
            "3      1963  Afghanistan                0.0\n",
            "4      1964  Afghanistan                0.0\n",
            "...     ...          ...                ...\n",
            "11635  2015     Zimbabwe         12800000.0\n",
            "11636  2016     Zimbabwe         12900000.0\n",
            "11637  2017     Zimbabwe         14100000.0\n",
            "11638  2018     Zimbabwe         12900000.0\n",
            "11639  2019     Zimbabwe         13200000.0\n",
            "\n",
            "[11640 rows x 3 columns]\n"
          ],
          "name": "stdout"
        }
      ]
    },
    {
      "cell_type": "code",
      "metadata": {
        "colab": {
          "base_uri": "https://localhost:8080/"
        },
        "id": "kuQUcky-2amA",
        "outputId": "44968e52-65e1-4bb6-94fb-295772684de6"
      },
      "source": [
        "df = merged_df2.set_index('year')\r\n",
        "print(df)"
      ],
      "execution_count": 16,
      "outputs": [
        {
          "output_type": "stream",
          "text": [
            "          Country  cell_phones_total\n",
            "year                                \n",
            "1960  Afghanistan                0.0\n",
            "1961  Afghanistan                0.0\n",
            "1962  Afghanistan                0.0\n",
            "1963  Afghanistan                0.0\n",
            "1964  Afghanistan                0.0\n",
            "...           ...                ...\n",
            "2015     Zimbabwe         12800000.0\n",
            "2016     Zimbabwe         12900000.0\n",
            "2017     Zimbabwe         14100000.0\n",
            "2018     Zimbabwe         12900000.0\n",
            "2019     Zimbabwe         13200000.0\n",
            "\n",
            "[11640 rows x 2 columns]\n"
          ],
          "name": "stdout"
        }
      ]
    },
    {
      "cell_type": "code",
      "metadata": {
        "colab": {
          "base_uri": "https://localhost:8080/"
        },
        "id": "f-h5whW12fBs",
        "outputId": "e9358242-c109-43f5-f4c4-1f410fe3efcf"
      },
      "source": [
        "df2 = df.loc[[2017]]\r\n",
        "print(df2)"
      ],
      "execution_count": 17,
      "outputs": [
        {
          "output_type": "stream",
          "text": [
            "          Country  cell_phones_total\n",
            "year                                \n",
            "2017  Afghanistan         23900000.0\n",
            "2017      Albania          3630000.0\n",
            "2017      Algeria         45800000.0\n",
            "2017      Andorra            80300.0\n",
            "2017       Angola         13300000.0\n",
            "...           ...                ...\n",
            "2017    Venezuela         24500000.0\n",
            "2017      Vietnam        120000000.0\n",
            "2017        Yemen         15400000.0\n",
            "2017       Zambia         13400000.0\n",
            "2017     Zimbabwe         14100000.0\n",
            "\n",
            "[194 rows x 2 columns]\n"
          ],
          "name": "stdout"
        }
      ]
    },
    {
      "cell_type": "code",
      "metadata": {
        "colab": {
          "base_uri": "https://localhost:8080/",
          "height": 235
        },
        "id": "Ewd55LxV2iqP",
        "outputId": "cfa0b79e-ebbf-4db2-e077-18a63a86d079"
      },
      "source": [
        "df2.nlargest(5, 'cell_phones_total').sort_values(by='Country')"
      ],
      "execution_count": 18,
      "outputs": [
        {
          "output_type": "execute_result",
          "data": {
            "text/html": [
              "<div>\n",
              "<style scoped>\n",
              "    .dataframe tbody tr th:only-of-type {\n",
              "        vertical-align: middle;\n",
              "    }\n",
              "\n",
              "    .dataframe tbody tr th {\n",
              "        vertical-align: top;\n",
              "    }\n",
              "\n",
              "    .dataframe thead th {\n",
              "        text-align: right;\n",
              "    }\n",
              "</style>\n",
              "<table border=\"1\" class=\"dataframe\">\n",
              "  <thead>\n",
              "    <tr style=\"text-align: right;\">\n",
              "      <th></th>\n",
              "      <th>Country</th>\n",
              "      <th>cell_phones_total</th>\n",
              "    </tr>\n",
              "    <tr>\n",
              "      <th>year</th>\n",
              "      <th></th>\n",
              "      <th></th>\n",
              "    </tr>\n",
              "  </thead>\n",
              "  <tbody>\n",
              "    <tr>\n",
              "      <th>2017</th>\n",
              "      <td>China</td>\n",
              "      <td>1.470000e+09</td>\n",
              "    </tr>\n",
              "    <tr>\n",
              "      <th>2017</th>\n",
              "      <td>India</td>\n",
              "      <td>1.170000e+09</td>\n",
              "    </tr>\n",
              "    <tr>\n",
              "      <th>2017</th>\n",
              "      <td>Indonesia</td>\n",
              "      <td>4.350000e+08</td>\n",
              "    </tr>\n",
              "    <tr>\n",
              "      <th>2017</th>\n",
              "      <td>Russia</td>\n",
              "      <td>2.270000e+08</td>\n",
              "    </tr>\n",
              "    <tr>\n",
              "      <th>2017</th>\n",
              "      <td>United States</td>\n",
              "      <td>4.000000e+08</td>\n",
              "    </tr>\n",
              "  </tbody>\n",
              "</table>\n",
              "</div>"
            ],
            "text/plain": [
              "            Country  cell_phones_total\n",
              "year                                  \n",
              "2017          China       1.470000e+09\n",
              "2017          India       1.170000e+09\n",
              "2017      Indonesia       4.350000e+08\n",
              "2017         Russia       2.270000e+08\n",
              "2017  United States       4.000000e+08"
            ]
          },
          "metadata": {
            "tags": []
          },
          "execution_count": 18
        }
      ]
    },
    {
      "cell_type": "code",
      "metadata": {
        "id": "kzv58TTj2mzG"
      },
      "source": [
        ""
      ],
      "execution_count": null,
      "outputs": []
    }
  ]
}